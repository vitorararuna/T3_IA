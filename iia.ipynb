{
 "cells": [
  {
   "cell_type": "markdown",
   "metadata": {},
   "source": [
    "-------------------------------------------------------------------------------------------------------------------------------------------------------------------------------------------\n",
    "* TRABALHO 3 INTRODUCAO À INTELIGENCIA ARTIFICIAL\n",
    "  * Aluno: Vitor de Oliveira Araujo Araruna\n",
    "  * Matricula: 202060980\n",
    "-------------------------------------------------------------------------------------------------------------------------------------------------------------------------------------------"
   ]
  },
  {
   "cell_type": "code",
   "execution_count": 1,
   "metadata": {},
   "outputs": [],
   "source": [
    "import numpy as np\n",
    "import matplotlib.pyplot as plt"
   ]
  },
  {
   "cell_type": "markdown",
   "metadata": {},
   "source": [
    "-------------------------------------------------------------------------------------------------------------------------------------------------------------------------------------------\n",
    "- Classe Perceptron utilizada para simular uma um modelo de classificacão\n",
    "    - Tal classe simula o comportamento de um perceptron, utilizando o conceitos dos pesos, inicialmente aleatórios , bias, épocas (para fins de loop de treinamento) e nossa taxa de aprendizagem (alpha)\n",
    "    - Observa-se funcões cruciais usados por um modelo como: FIT (para treinamento) e PREDICT (para que o modelo tente predizer o rótulo de uma entrada)\n",
    "-------------------------------------------------------------------------------------------------------------------------------------------------------------------------------------------"
   ]
  },
  {
   "cell_type": "code",
   "execution_count": 2,
   "metadata": {},
   "outputs": [],
   "source": [
    "class Perceptron(object):\n",
    "\n",
    "  def __init__(self, alpha=0.1, epochs=10):\n",
    "    np.random.seed(1) # [OBS1]\n",
    "    self.alpha = alpha # alpha é a nossa taxa de aprendizado\n",
    "    self.epochs = epochs\n",
    "    self.weights = None\n",
    "    self.bias = None\n",
    "\n",
    "\n",
    "\n",
    "  def activation(self, signal):\n",
    "    return np.where( signal >= 0, 1, 0) # Função degrau de ativação\n",
    "\n",
    "\n",
    "  def predict(self, X):\n",
    "      # Calcule o output do perceptron: [ATIVIDADE 3]\n",
    "      sum = np.dot(X, self.weights)\n",
    "      sum += self.bias\n",
    "      #somar o bias e manda pra activation\n",
    "      return(self.activation(sum))\n",
    "  \n",
    "  def fit (self, X, Y):\n",
    "    n_samples, n_features = X.shape\n",
    "    # Inicialize os Pesos e Bias: [ATIVIDADE 1]\n",
    "    self.weights = 2*np.random.random((n_features,)) - 1\n",
    "    self.bias = 2*np.random.random() -1\n",
    "\n",
    "    for epoch in range(self.epochs):\n",
    "      for x_i,y_esperado in zip(X,Y):\n",
    "        # Defina as funções de treinamento: [ATIVIDADE 2]\n",
    "        output = self.predict(x_i)\n",
    "        ## agr pego meu output e recalculo os pesos e bias\n",
    "        erro = (y_esperado - output)\n",
    "        self.weights += x_i * self.alpha * erro\n",
    "        self.bias = self.bias + self.alpha * erro"
   ]
  },
  {
   "cell_type": "markdown",
   "metadata": {},
   "source": [
    "-------------------------------------------------------------------------------------------------------------------------------------------------------------------------------------------\n",
    "- Aqui defino minha funcao de acurácia, ou seja, desejo informar qual foi meu percentual de acerto. Em outras palavras, o quão próximo do resultado esperado, o resultado obtido chegou\n",
    "-------------------------------------------------------------------------------------------------------------------------------------------------------------------------------------------"
   ]
  },
  {
   "cell_type": "code",
   "execution_count": 3,
   "metadata": {},
   "outputs": [],
   "source": [
    "def accuracy(y_true, y_pred):\n",
    "    hits = 0\n",
    "    length = len(y_pred)\n",
    "    # Crie uma função de acurácia simples: [ATIVIDADE 4]\n",
    "    for i in range(length):\n",
    "      if y_true[i] == y_pred[i]:\n",
    "        hits +=1\n",
    "    \n",
    "    result = hits/length\n",
    "\n",
    "    return result"
   ]
  },
  {
   "cell_type": "markdown",
   "metadata": {},
   "source": [
    "-------------------------------------------------------------------------------------------------------------------------------------------------------------------------------------------\n",
    "- Teste no perceptron para classificar o problema acima com acurácia de 1.0 (100%)\n",
    "-------------------------------------------------------------------------------------------------------------------------------------------------------------------------------------------"
   ]
  },
  {
   "cell_type": "code",
   "execution_count": 4,
   "metadata": {},
   "outputs": [
    {
     "name": "stdout",
     "output_type": "stream",
     "text": [
      "Perceptron classification accuracy 1.0\n"
     ]
    },
    {
     "data": {
      "image/png": "[encoded data removed]",
      "text/plain": [
       "<Figure size 432x288 with 1 Axes>"
      ]
     },
     "metadata": {
      "needs_background": "light"
     },
     "output_type": "display_data"
    }
   ],
   "source": [
    "from sklearn.model_selection import train_test_split\n",
    "from sklearn import datasets\n",
    "\n",
    "X, y = datasets.make_blobs(\n",
    "    n_samples=150, n_features=2, centers=2, cluster_std=1.05, random_state=2\n",
    ")\n",
    "X_train, X_test, y_train, y_test = train_test_split(\n",
    "    X, y, test_size=0.2, random_state=123\n",
    ")\n",
    "\n",
    "p = Perceptron(alpha=0.01, epochs=10)\n",
    "p.fit(X_train, y_train)\n",
    "predictions = p.predict(X_test)\n",
    "\n",
    "print(\"Perceptron classification accuracy\", accuracy(y_test, predictions))\n",
    "\n",
    "# Visualizando o problema que foi solucionado\n",
    "\n",
    "fig = plt.figure()\n",
    "ax = fig.add_subplot(1, 1, 1)\n",
    "plt.scatter(X_train[:, 0], X_train[:, 1], marker=\"o\", c=y_train)\n",
    "\n",
    "x0_1 = np.amin(X_train[:, 0])\n",
    "x0_2 = np.amax(X_train[:, 0])\n",
    "\n",
    "x1_1 = (-p.weights[0] * x0_1 - p.bias) / p.weights[1]\n",
    "x1_2 = (-p.weights[0] * x0_2 - p.bias) / p.weights[1]\n",
    "\n",
    "ax.plot([x0_1, x0_2], [x1_1, x1_2], \"k\")\n",
    "\n",
    "ymin = np.amin(X_train[:, 1])\n",
    "ymax = np.amax(X_train[:, 1])\n",
    "ax.set_ylim([ymin - 3, ymax + 3])\n",
    "\n",
    "plt.show()"
   ]
  },
  {
   "cell_type": "markdown",
   "metadata": {},
   "source": [
    "-------------------------------------------------------------------------------------------------------------------------------------------------------------------------------------------\n",
    "- Baixando a base de dados que vamos rotular com os dados de teste\n",
    "- Esse dataset é composto \"imagens\" de números de 0 à 9, e contém 60.000 exemplos de treinamento e 10.000 exemplos de teste.\n",
    "- Depois vou extrair o mesmo\n",
    "-------------------------------------------------------------------------------------------------------------------------------------------------------------------------------------------"
   ]
  },
  {
   "cell_type": "code",
   "execution_count": 5,
   "metadata": {},
   "outputs": [],
   "source": [
    "# # download do dataset (training set images)\n",
    "# !curl -O http://yann.lecun.com/exdb/mnist/train-images-idx3-ubyte.gz\n",
    "# # download do dataset (training set labels)\n",
    "# !curl -O http://yann.lecun.com/exdb/mnist/train-labels-idx1-ubyte.gz\n",
    "# # download do dataset (testing set images)\n",
    "# !curl -O http://yann.lecun.com/exdb/mnist/t10k-images-idx3-ubyte.gz\n",
    "# # download do dataset (testing set labels)\n",
    "# !curl -O http://yann.lecun.com/exdb/mnist/t10k-labels-idx1-ubyte.gz"
   ]
  },
  {
   "cell_type": "code",
   "execution_count": 6,
   "metadata": {},
   "outputs": [],
   "source": [
    "# # Extrair arquivos\n",
    "# !gunzip *"
   ]
  },
  {
   "cell_type": "markdown",
   "metadata": {},
   "source": [
    "-------------------------------------------------------------------------------------------------------------------------------------------------------------------------------------------\n",
    "- Funcões disponibilizadas para realizar a leitura dos dados:\n",
    "-------------------------------------------------------------------------------------------------------------------------------------------------------------------------------------------"
   ]
  },
  {
   "cell_type": "code",
   "execution_count": 7,
   "metadata": {},
   "outputs": [],
   "source": [
    "def bytes_to_int(byte_data):\n",
    "    return int.from_bytes(byte_data, 'big')\n",
    "\n",
    "def read_images(filename, n_max_images=None, show = False):\n",
    "    images = []\n",
    "    with open(filename, 'rb') as f:\n",
    "        _ = f.read(4)  # magic number\n",
    "        n_images = bytes_to_int(f.read(4))\n",
    "        if n_max_images:\n",
    "            n_images = n_max_images\n",
    "        n_rows = bytes_to_int(f.read(4))\n",
    "        n_columns = bytes_to_int(f.read(4))\n",
    "        for image_idx in range(n_images):\n",
    "            image = []\n",
    "            for row_idx in range(n_rows):\n",
    "                row = []\n",
    "                for col_idx in range(n_columns):\n",
    "                    if show:\n",
    "                        pixel = f.read(1)\n",
    "                    else:\n",
    "                        pixel = bytes_to_int(f.read(1))\n",
    "                    row.append(pixel)\n",
    "                image.append(row)\n",
    "            images.append(image)\n",
    "    return images\n",
    "\n",
    "def read_labels(filename, n_max_labels=None):\n",
    "    labels = []\n",
    "    with open(filename, 'rb') as f:\n",
    "        _ = f.read(4)  # magic number\n",
    "        n_labels = bytes_to_int(f.read(4))\n",
    "        if n_max_labels:\n",
    "            n_labels = n_max_labels\n",
    "        for label_idx in range(n_labels):\n",
    "            label = bytes_to_int(f.read(1))\n",
    "            labels.append(label)\n",
    "    return labels"
   ]
  },
  {
   "cell_type": "markdown",
   "metadata": {},
   "source": [
    "----------\n",
    "- Transformando as imegens em um vetor de uma dimensao:\n",
    "----------"
   ]
  },
  {
   "cell_type": "code",
   "execution_count": 8,
   "metadata": {},
   "outputs": [],
   "source": [
    "def flatten_list(l):\n",
    "    return [pixel for sublist in l for pixel in sublist]\n",
    "    \n",
    "def extract_features(X):\n",
    "    return [flatten_list(sample) for sample in X]\n",
    "\n",
    "# A função `extract_features` seria responsável por extrair features das imagens, porém como estamos carregando todos os dados diretamente nos neurônios, ela só irá chamar a função `flatten_list` para todos os samples.\n",
    "\n",
    "# A função `flatten_list` irá transformar o que era uma matriz de dados 28 x 28 em um simples vetor com 784 valores que será carregado como input para nosso perceptron."
   ]
  },
  {
   "cell_type": "markdown",
   "metadata": {},
   "source": [
    "----------\n",
    "- Pré-processamento: estou realizando a leitura dos dados e dividindo-os em dados de treino e dados de teste\n",
    "----------"
   ]
  },
  {
   "cell_type": "code",
   "execution_count": 9,
   "metadata": {},
   "outputs": [
    {
     "name": "stdout",
     "output_type": "stream",
     "text": [
      "28\n",
      "28\n",
      "784\n"
     ]
    }
   ],
   "source": [
    "TEST_DATA_FILENAME = 't10k-images-idx3-ubyte'\n",
    "TEST_LABELS_FILENAME = 't10k-labels-idx1-ubyte'\n",
    "TRAIN_DATA_FILENAME = 'train-images-idx3-ubyte'\n",
    "TRAIN_LABELS_FILENAME = 'train-labels-idx1-ubyte'\n",
    "\n",
    "n_train = 100 # Numero de imagens carregadas para treinamento\n",
    "n_test = 10 # Numero de imagens carregadas para teste\n",
    "\n",
    "x_train = read_images(TRAIN_DATA_FILENAME, n_train)\n",
    "y_train = np.array(read_labels(TRAIN_LABELS_FILENAME, n_train)).reshape(n_train,1)\n",
    "print(len(x_train[0]))\n",
    "print(len(x_train[0][0]))\n",
    "\n",
    "x_test = read_images(TEST_DATA_FILENAME, n_test)\n",
    "y_test = read_labels(TEST_LABELS_FILENAME, n_test)\n",
    "\n",
    "x_train = np.array(extract_features(x_train))/255 # Transformando em numpy array e normalizando (valores entre 0 e 1)\n",
    "x_test = np.array(extract_features(x_test))/255 # Transformando em numpy array e normalizando (valores entre 0 e 1)\n",
    "print(len(x_train[0]))"
   ]
  },
  {
   "cell_type": "markdown",
   "metadata": {},
   "source": [
    "----------\n",
    "- Modelagem: \n",
    "  - 10 perceptrons classificadores, 1 para cada classe (número).\n",
    "  - Como cada classificador será treinado individualmente, será necessário transformar o vetor de labels para cada neurônio de maneira a garantir que o erro será calculado corretamente.\n",
    "  - Exemplo para o perceptron classificador de 1s: Label = [0,1,4,1,5] -> [0, 1, 0, 1, 0]\n",
    "  - Além disso a saída será individualizada, ou seja, não teremos uma saída final com a previsão da rede, ao invés disso teremos 10 saídas independentes que precisamos unir para avaliar a saída completa.\n",
    "  - Aqui surgirá um problema de quebrar os empates, ou seja, quando mais de um perceptron ativar para uma mesma entrada. Nesse primeiro momento iremos converter o vetor de labels para que cada label seja equivalente a um vetor de 10 posições de 0s e 1s correspondente ao output desejado da rede completa unida, e verificaremos se o vetor resultante da nossa rede é igual ao desejado.\n",
    "  - Exemplo: Label = [5] -> [0, 0, 0, 0, 0, 1, 0, 0, 0, 0]\n",
    "----------"
   ]
  },
  {
   "cell_type": "code",
   "execution_count": 10,
   "metadata": {},
   "outputs": [
    {
     "name": "stdout",
     "output_type": "stream",
     "text": [
      "[7, 2, 1, 0, 4, 1, 4, 9, 5, 9]\n",
      "[0 0 1 0 0 1 0 0 0 0]\n"
     ]
    }
   ],
   "source": [
    "# PERCEPTRON PARA CLASSIFICAR 1's\n",
    "\n",
    "P = Perceptron(alpha=0.1, epochs=50)\n",
    "\n",
    "# Formatar labels de treinamento: [ATIVIDADE 5]\n",
    "y_train_formated = np.where(y_train==1 , 1, 0)\n",
    "\n",
    "# Treinar Rede: [ATIVIDADE 6]\n",
    "P.fit(x_train, y_train_formated)\n",
    "\n",
    "# Gerar vetor de predições: [ATIVIDADE 7]\n",
    "predictions = P.predict(x_test)\n",
    "\n",
    "print(y_test)\n",
    "print(predictions)"
   ]
  },
  {
   "cell_type": "markdown",
   "metadata": {},
   "source": [
    "----------\n",
    "- Agora realizando a classificacão utilizando os 10 perceptrons:\n",
    "----------"
   ]
  },
  {
   "cell_type": "code",
   "execution_count": 11,
   "metadata": {},
   "outputs": [],
   "source": [
    "# AGR VAMOS UTILIZAR OS 10 PERCEPTRONS \n",
    "\n",
    "P_list = []\n",
    "# Inicialize uma lista de 10 perceptrons: [ATIVIDADE 8]\n",
    "for i in range(10):\n",
    "    P_list.append(Perceptron(alpha=0.1, epochs=50))\n",
    "\n",
    "# Loop de treinamento: [Atividade 9]\n",
    "for index, perceptron in enumerate(P_list):\n",
    "    #formatacao\n",
    "    y_train_formated = np.where(y_train==index , 1, 0)\n",
    "    #chamar fit com dados formatados\n",
    "    perceptron.fit(x_train, y_train_formated)\n",
    "\n",
    "predictions = []\n",
    "# Loop de predições: [Atividade 10]\n",
    "for index, perceptron in enumerate(P_list):\n",
    "    predictions.append(perceptron.predict(x_test))\n"
   ]
  },
  {
   "cell_type": "code",
   "execution_count": 12,
   "metadata": {},
   "outputs": [
    {
     "data": {
      "text/plain": [
       "[array([0, 0, 0, 1, 0, 0, 0, 0, 0, 0]),\n",
       " array([0, 1, 1, 0, 0, 1, 0, 0, 0, 0]),\n",
       " array([0, 1, 0, 0, 0, 0, 0, 0, 0, 0]),\n",
       " array([0, 0, 0, 0, 0, 0, 0, 0, 0, 0]),\n",
       " array([0, 0, 0, 0, 1, 0, 1, 1, 0, 0]),\n",
       " array([0, 0, 0, 0, 0, 0, 0, 0, 0, 0]),\n",
       " array([0, 0, 0, 0, 0, 0, 0, 0, 0, 0]),\n",
       " array([1, 0, 0, 0, 0, 0, 0, 0, 0, 0]),\n",
       " array([0, 0, 0, 0, 0, 0, 0, 0, 0, 0]),\n",
       " array([0, 0, 0, 0, 0, 0, 0, 0, 0, 1])]"
      ]
     },
     "execution_count": 12,
     "metadata": {},
     "output_type": "execute_result"
    }
   ],
   "source": [
    "predictions"
   ]
  },
  {
   "cell_type": "markdown",
   "metadata": {},
   "source": [
    "----------\n",
    "- Formatando tudo para calcular acuracia: \n",
    "  - A variável predictions contém o resultado da predição dos nossos 10 perceptrons, e para cada um deles existe um vetor de n_test predições. \n",
    "  - Para que possamos calcular a acurácia precisamos agrupar a primeira predição de cada perceptron, a segunda de cada perceptron, e assim por diante.\n",
    "  - Além disso precisamos converter o nosso vetor de labels para comparar com as predições. Lembrando que aqui teremos o problema de quebrar empates, e com essa solução iremos considerar que um empate, ou seja, quando dois ou mais perceptrons ativarem para o mesmo input, é um erro.\n",
    "----------"
   ]
  },
  {
   "cell_type": "code",
   "execution_count": 13,
   "metadata": {},
   "outputs": [
    {
     "name": "stdout",
     "output_type": "stream",
     "text": [
      "Acuracia:  0.7\n"
     ]
    }
   ],
   "source": [
    "# Reformatando o vetor de predições\n",
    "grouped_predictions = []\n",
    "for i in range(n_test):\n",
    "  singlePrediction = []\n",
    "  for j, prediction in enumerate(predictions):\n",
    "    singlePrediction.append(prediction[i])\n",
    "  grouped_predictions.append(singlePrediction)\n",
    "\n",
    "# Reformatando o vetor de labels\n",
    "def convert_number_to_array_prediction(n):\n",
    "  array_prediction = np.zeros(10)\n",
    "  array_prediction[n] = 1\n",
    "  return array_prediction\n",
    "\n",
    "def convert_y_test_to_array_prediction(ytest):\n",
    "  convertedList = []\n",
    "  for i in ytest:\n",
    "    convertedList.append(convert_number_to_array_prediction(i))\n",
    "  return np.array(convertedList)\n",
    "\n",
    "# Salvando novo vetor de y_test\n",
    "y_test_as_array = convert_y_test_to_array_prediction(y_test)\n",
    "\n",
    "# Definindo nova função de acuracia [OBS2]\n",
    "hits = 0\n",
    "for i, prediction in enumerate(grouped_predictions):\n",
    "  # print(prediction)\n",
    "  # print(convertedArray[i])\n",
    "  if (prediction == y_test_as_array[i]).all():\n",
    "    hits+=1\n",
    "\n",
    "# print('gp', grouped_predictions)\n",
    "# print('y', y_test_as_array)\n",
    "print('Acuracia: ',hits/n_test)"
   ]
  },
  {
   "cell_type": "markdown",
   "metadata": {},
   "source": [
    "------------\n",
    "- Atividade extra (11): Aumentar Acurácia\n",
    "  - Altere o valor de n_test para 100, e modifique os valores de n_train, n_epocas, alpha, etc. Consiga uma acuracia mínima de 70%.\n",
    "\n",
    "\n",
    "\n",
    "- Alteracões: \n",
    "  - imagens de treino: 800\n",
    "  - alpha: 5\n",
    "  - epocas: 30\n",
    "------------"
   ]
  },
  {
   "cell_type": "code",
   "execution_count": 14,
   "metadata": {},
   "outputs": [
    {
     "name": "stdout",
     "output_type": "stream",
     "text": [
      "28\n",
      "28\n",
      "784\n"
     ]
    }
   ],
   "source": [
    "n_train = 800 # Numero de imagens carregadas para treinamento\n",
    "n_test = 100 # Numero de imagens carregadas para teste\n",
    "\n",
    "x_train = read_images(TRAIN_DATA_FILENAME, n_train)\n",
    "y_train = np.array(read_labels(TRAIN_LABELS_FILENAME, n_train)).reshape(n_train,1)\n",
    "print(len(x_train[0]))\n",
    "print(len(x_train[0][0]))\n",
    "\n",
    "x_test = read_images(TEST_DATA_FILENAME, n_test)\n",
    "y_test = read_labels(TEST_LABELS_FILENAME, n_test)\n",
    "\n",
    "x_train = np.array(extract_features(x_train))/255 # Transformando em numpy array e normalizando (valores entre 0 e 1)\n",
    "x_test = np.array(extract_features(x_test))/255 # Transformando em numpy array e normalizando (valores entre 0 e 1)\n",
    "print(len(x_train[0]))"
   ]
  },
  {
   "cell_type": "code",
   "execution_count": 15,
   "metadata": {},
   "outputs": [],
   "source": [
    "P_list = []\n",
    "for i in range(10):\n",
    "    P_list.append(Perceptron(alpha=5, epochs=30))\n",
    "\n",
    "for index, perceptron in enumerate(P_list):\n",
    "    y_train_formated = np.where(y_train==index , 1, 0)\n",
    "    perceptron.fit(x_train, y_train_formated)\n",
    "\n",
    "predictions = []\n",
    "for index, perceptron in enumerate(P_list):\n",
    "    predictions.append(perceptron.predict(x_test))"
   ]
  },
  {
   "cell_type": "code",
   "execution_count": 16,
   "metadata": {},
   "outputs": [
    {
     "name": "stdout",
     "output_type": "stream",
     "text": [
      "Acuracia:  0.72\n"
     ]
    }
   ],
   "source": [
    "grouped_predictions = []\n",
    "for i in range(n_test):\n",
    "  singlePrediction = []\n",
    "  for j, prediction in enumerate(predictions):\n",
    "    singlePrediction.append(prediction[i])\n",
    "  grouped_predictions.append(singlePrediction)\n",
    "def convert_number_to_array_prediction(n):\n",
    "  array_prediction = np.zeros(10)\n",
    "  array_prediction[n] = 1\n",
    "  return array_prediction\n",
    "def convert_y_test_to_array_prediction(ytest):\n",
    "  convertedList = []\n",
    "  for i in ytest:\n",
    "    convertedList.append(convert_number_to_array_prediction(i))\n",
    "  return np.array(convertedList)\n",
    "y_test_as_array = convert_y_test_to_array_prediction(y_test)\n",
    "hits = 0\n",
    "for i, prediction in enumerate(grouped_predictions):\n",
    "  if (prediction == y_test_as_array[i]).all():\n",
    "    hits+=1\n",
    "print('Acuracia: ',hits/n_test)"
   ]
  },
  {
   "cell_type": "markdown",
   "metadata": {},
   "source": [
    "----------\n",
    "- Atividades extras (12, 13, 14): \n",
    "  - Parecido com o que tinhamos feito no primeiro perceptron, mas agora vamos utilizar o SIGMOIDE como funcão de ativacão\n",
    "\n",
    "------\n",
    "\n",
    "- Sigmoide como funcão de ativacão:\n",
    "  - valores quebrados entre 0 e 1 para não gerar um empate entre 2 neuronios que tiveram o output 1\n",
    "----------"
   ]
  },
  {
   "cell_type": "code",
   "execution_count": 17,
   "metadata": {},
   "outputs": [],
   "source": [
    "class PerceptronSig(object):\n",
    "  \n",
    "  def __init__(self, epochs=10):\n",
    "    np.random.seed(1)\n",
    "    self.epochs = epochs\n",
    "    self.weights = None\n",
    "    self.bias = None\n",
    "  \n",
    "  def sigmoid_derivative(self, x):\n",
    "    #computing derivative to the Sigmoid function\n",
    "    return x * (1 - x)\n",
    "\n",
    "  def activation(self, signal):\n",
    "    return 1 / (1 + np.exp(-signal)) # Função sigmoid de ativação\n",
    "    \n",
    "  def predict(self, X):\n",
    "    # Calcule o output do perceptron: [ATIVIDADE 14]\n",
    "    sum = np.dot(X, self.weights)\n",
    "    sum += self.bias\n",
    "    return(self.activation(sum))\n",
    "  \n",
    "  def fit (self, X, Y):\n",
    "    n_samples, n_features = X.shape\n",
    "    # Inicialize os Pesos e Bias: [ATIVIDADE 12]\n",
    "    self.weights = 2*np.random.random((n_features,)) - 1\n",
    "    self.bias = 2*np.random.random() -1\n",
    "\n",
    "\n",
    "    for epoch in range(self.epochs):\n",
    "      for x_i, y_esperado in zip(X,Y):\n",
    "        output = self.predict(x_i)\n",
    "        # Calcule o sigmoid_derivative : [ATIVIDADE 13]\n",
    "        sig = self.sigmoid_derivative(output)\n",
    "        erro = (y_esperado - output)\n",
    "        self.weights += x_i * sig * erro\n",
    "        self.bias = self.bias + sig * erro"
   ]
  },
  {
   "cell_type": "markdown",
   "metadata": {},
   "source": [
    "----------\n",
    "- Atividades extras (15): \n",
    "  - Assim como também já tinhamos feito, vamos listar, treinar e rodar esse novo perceptron com 10 do mesmo\n",
    "\n",
    "------"
   ]
  },
  {
   "cell_type": "code",
   "execution_count": 18,
   "metadata": {},
   "outputs": [],
   "source": [
    "P_list = []\n",
    "# Liste, Treine e Rode seu sistema de 10 perceptrons: [ATIVIDADE 15]\n",
    "\n",
    "for i in range(10):\n",
    "    P_list.append(PerceptronSig(epochs=50))\n",
    "\n",
    "for index, perceptron in enumerate(P_list):\n",
    "    #formatacao\n",
    "    y_train_formated = np.where(y_train==index , 1, 0)\n",
    "    #chamar fit com dados formatados\n",
    "    perceptron.fit(x_train, y_train_formated)\n",
    "\n",
    "predictions = []\n",
    "for index, perceptron in enumerate(P_list):\n",
    "    predictions.append(perceptron.predict(x_test))\n"
   ]
  },
  {
   "cell_type": "code",
   "execution_count": 19,
   "metadata": {},
   "outputs": [
    {
     "data": {
      "text/plain": [
       "[array([1.96373165e-04, 1.88780340e-04, 1.98227107e-10, 9.99977571e-01,\n",
       "        2.67881339e-10, 1.50009621e-12, 6.83454697e-12, 3.97672481e-18,\n",
       "        2.62704280e-08, 2.09222933e-11, 9.99927216e-01, 6.10969186e-12,\n",
       "        4.58150843e-10, 9.99999935e-01, 1.31095053e-12, 4.61307542e-07,\n",
       "        6.64530575e-10, 8.65354676e-05, 5.71898263e-14, 1.47988248e-09,\n",
       "        2.52759826e-10, 9.12797865e-10, 6.69762029e-16, 1.10179451e-05,\n",
       "        7.97633814e-14, 9.99998892e-01, 1.05296968e-05, 3.73311545e-10,\n",
       "        1.00000000e+00, 2.29934981e-09, 7.82662395e-13, 1.75106978e-10,\n",
       "        6.34402002e-11, 9.33083203e-03, 1.70010958e-08, 3.26185283e-05,\n",
       "        4.25840012e-08, 1.39934319e-12, 3.05363939e-03, 8.97918420e-12,\n",
       "        4.68771366e-07, 3.91106742e-10, 8.40597145e-20, 2.59950137e-08,\n",
       "        2.96179321e-10, 2.58242048e-02, 1.31434812e-19, 2.13572393e-08,\n",
       "        1.39472118e-19, 2.52321828e-11, 1.81572062e-05, 1.03329574e-13,\n",
       "        3.82976589e-06, 2.05546597e-05, 1.78895748e-15, 9.99999941e-01,\n",
       "        3.67574420e-14, 1.47995149e-09, 3.76960286e-11, 1.85042910e-03,\n",
       "        3.54889741e-13, 5.91731200e-05, 1.71550207e-10, 1.30807254e-05,\n",
       "        6.82376045e-11, 1.56929446e-11, 3.55749695e-10, 1.09112063e-09,\n",
       "        7.31743900e-14, 9.89340750e-01, 2.60012061e-04, 9.99998133e-01,\n",
       "        6.26977663e-01, 1.33517895e-11, 2.06857798e-11, 1.26985474e-16,\n",
       "        9.62070639e-07, 8.08760421e-10, 2.75236126e-10, 2.61482327e-13,\n",
       "        1.43013035e-14, 3.14609109e-08, 8.13816049e-09, 4.50256199e-11,\n",
       "        5.27548743e-13, 4.69242273e-18, 5.01647158e-16, 2.64037400e-10,\n",
       "        4.71163495e-17, 1.27950923e-13, 5.13053535e-04, 1.97673575e-11,\n",
       "        2.89603459e-09, 1.89322173e-12, 1.56193595e-18, 7.38050602e-19,\n",
       "        1.27435824e-12, 1.55653169e-19, 8.71261763e-02, 6.84503933e-18]),\n",
       " array([1.06850256e-13, 2.30796627e-09, 9.99729055e-01, 8.62698557e-26,\n",
       "        4.92387362e-12, 9.99404768e-01, 9.71358941e-10, 6.09211435e-07,\n",
       "        4.64900866e-11, 4.06653010e-16, 5.78155299e-16, 4.29752836e-09,\n",
       "        6.85159372e-13, 2.09413208e-21, 9.99933767e-01, 1.33135276e-09,\n",
       "        6.43288837e-15, 2.19343336e-18, 2.31015325e-15, 3.60552792e-09,\n",
       "        5.48695602e-13, 1.35187666e-15, 1.08044248e-04, 1.89973785e-11,\n",
       "        4.91261936e-09, 2.30012768e-27, 3.37742248e-08, 7.70438832e-12,\n",
       "        2.12101025e-25, 8.71024295e-01, 4.28012072e-14, 9.83499951e-01,\n",
       "        1.24182122e-14, 2.18196672e-15, 2.25337708e-11, 1.37708068e-13,\n",
       "        2.19035444e-14, 9.99903248e-01, 7.30150890e-10, 9.99412749e-01,\n",
       "        9.99881683e-01, 1.06499036e-09, 1.00346254e-05, 1.86902889e-03,\n",
       "        1.24429006e-08, 8.31483219e-11, 7.46345415e-06, 8.00321358e-07,\n",
       "        1.45031657e-19, 1.88292839e-13, 2.05427665e-12, 7.28390224e-20,\n",
       "        5.49513201e-11, 7.03150852e-08, 2.24896505e-11, 1.80214694e-21,\n",
       "        3.36444053e-14, 9.00558900e-01, 3.61891265e-15, 5.05133786e-04,\n",
       "        4.22121343e-13, 1.00640568e-14, 4.96060605e-09, 4.00347549e-10,\n",
       "        9.16612797e-16, 4.16775240e-07, 1.22494577e-08, 9.47563570e-08,\n",
       "        1.34676372e-17, 1.83730106e-17, 1.50880851e-16, 9.48781938e-25,\n",
       "        7.29451050e-16, 1.10751740e-08, 9.98898572e-01, 1.58242285e-03,\n",
       "        5.85497388e-09, 1.68228384e-06, 1.08826423e-05, 8.62556002e-16,\n",
       "        1.42414022e-11, 1.59786555e-17, 5.05954115e-15, 6.33230109e-11,\n",
       "        7.23845321e-08, 1.83141999e-14, 1.04697313e-09, 4.95134864e-15,\n",
       "        6.60654256e-18, 9.99989226e-01, 4.90035639e-15, 1.39035829e-09,\n",
       "        8.59504570e-04, 1.03038454e-18, 9.76158970e-01, 1.43310562e-12,\n",
       "        7.86881230e-03, 1.25903900e-06, 5.95507231e-12, 7.33373730e-17]),\n",
       " array([9.48633954e-03, 9.31039836e-01, 3.18475557e-03, 6.35567026e-13,\n",
       "        3.98310740e-05, 6.99759058e-04, 2.32341218e-13, 8.76665282e-13,\n",
       "        5.09979704e-03, 7.51117001e-20, 2.60946928e-09, 1.08804017e-10,\n",
       "        2.31237797e-13, 1.73639143e-08, 8.11715875e-07, 1.38870193e-12,\n",
       "        1.57253502e-06, 1.34988056e-04, 5.84144880e-14, 2.18767616e-09,\n",
       "        5.84673261e-19, 1.02571384e-07, 3.45509248e-04, 1.02060877e-13,\n",
       "        7.40919417e-06, 5.44400983e-17, 2.11333970e-07, 2.38522679e-11,\n",
       "        1.17335291e-10, 2.80283787e-07, 3.15484891e-19, 5.50778527e-04,\n",
       "        9.10960468e-16, 3.03205508e-04, 2.46966037e-05, 9.99999999e-01,\n",
       "        8.27809203e-03, 1.70286194e-07, 2.99905168e-03, 8.27278808e-08,\n",
       "        8.92683126e-05, 3.93571247e-03, 6.34083853e-11, 9.99393555e-01,\n",
       "        2.74672292e-08, 1.73377434e-13, 7.96446476e-07, 9.99999965e-01,\n",
       "        1.50126221e-19, 1.79047745e-08, 2.71240480e-09, 1.56491156e-14,\n",
       "        7.81417147e-20, 3.69915542e-09, 9.45534029e-08, 1.21245808e-12,\n",
       "        9.71969481e-12, 3.19905061e-03, 1.09597673e-15, 6.02173218e-11,\n",
       "        2.91892811e-07, 1.50488803e-04, 1.07160012e-04, 9.81984684e-01,\n",
       "        1.13025617e-07, 1.49132547e-07, 2.02321816e-03, 5.40755278e-08,\n",
       "        1.01990266e-15, 4.11789549e-07, 2.41790227e-04, 7.91472389e-10,\n",
       "        9.99999993e-01, 9.87026429e-14, 4.17749244e-09, 2.08208970e-07,\n",
       "        2.36245080e-12, 7.17992106e-02, 4.23543330e-14, 1.09922963e-17,\n",
       "        1.13227384e-13, 1.52575007e-04, 1.00000000e+00, 1.18275120e-09,\n",
       "        1.98354281e-09, 2.28871591e-19, 8.23459215e-09, 3.59456172e-18,\n",
       "        1.79129147e-06, 3.13922536e-04, 2.71213605e-13, 3.79765284e-05,\n",
       "        4.31309182e-08, 1.75985031e-21, 2.37343813e-06, 2.13102514e-18,\n",
       "        1.82495784e-04, 6.34781327e-19, 3.48005635e-02, 1.07842572e-11]),\n",
       " array([3.37311080e-04, 1.02160618e-05, 7.50840252e-04, 1.87943612e-18,\n",
       "        1.41036326e-10, 5.97454287e-05, 6.10974118e-07, 1.82490053e-02,\n",
       "        2.76624101e-20, 4.10357779e-12, 1.90409837e-09, 2.74354876e-10,\n",
       "        2.68450112e-10, 3.90764626e-12, 2.93281820e-05, 8.02152569e-06,\n",
       "        4.79076791e-09, 4.76129843e-01, 9.66780931e-01, 2.74541298e-05,\n",
       "        4.04595055e-07, 3.90353125e-06, 2.29619695e-14, 2.97838877e-06,\n",
       "        6.17238005e-07, 4.81676960e-28, 1.08432386e-04, 1.45773684e-07,\n",
       "        1.30510497e-08, 2.26643134e-04, 9.99994059e-01, 1.41177565e-01,\n",
       "        9.99945709e-01, 9.45439750e-17, 1.26464967e-05, 8.99059246e-08,\n",
       "        4.22055405e-04, 2.42776706e-05, 7.00821810e-02, 1.70307765e-05,\n",
       "        5.18125346e-04, 2.72527014e-07, 8.79194307e-12, 3.54529087e-04,\n",
       "        1.84146604e-02, 7.11659371e-01, 7.32242563e-01, 8.77279439e-09,\n",
       "        4.17606169e-11, 1.50561919e-11, 1.94082268e-06, 9.99882156e-01,\n",
       "        7.65454891e-10, 1.18568855e-02, 4.88642766e-13, 3.32757087e-07,\n",
       "        7.10217296e-11, 6.92565815e-03, 6.96695882e-12, 4.01076206e-10,\n",
       "        1.53628335e-05, 2.25953141e-13, 1.81226132e-06, 2.99484106e-03,\n",
       "        7.00132377e-06, 6.69393733e-02, 2.43057608e-08, 5.64353885e-15,\n",
       "        9.96602170e-01, 1.17673801e-08, 1.84556805e-04, 1.18023609e-13,\n",
       "        4.97551465e-05, 6.84227335e-09, 2.73019027e-07, 2.13876373e-13,\n",
       "        9.99986243e-01, 2.08936539e-08, 1.14984985e-06, 4.33248012e-18,\n",
       "        1.22321533e-07, 2.27486109e-12, 1.05246200e-13, 6.17204679e-08,\n",
       "        1.60101352e-11, 8.87958011e-11, 1.96001140e-12, 2.56018429e-02,\n",
       "        2.89635359e-16, 3.11799955e-06, 9.99999690e-01, 1.05761538e-11,\n",
       "        1.94595896e-06, 9.52413077e-01, 1.46027500e-06, 1.74937397e-22,\n",
       "        9.36326402e-01, 1.19025778e-06, 2.71434499e-14, 3.54724945e-11]),\n",
       " array([3.85722559e-11, 2.63425837e-17, 9.24632066e-07, 1.81332815e-19,\n",
       "        9.99890858e-01, 2.93099066e-08, 9.99812679e-01, 2.29018371e-05,\n",
       "        1.14678643e-05, 8.98929946e-10, 8.17460307e-10, 1.47848293e-06,\n",
       "        5.51898818e-05, 1.52503226e-11, 3.89438594e-11, 1.72810065e-07,\n",
       "        1.02845967e-04, 3.32104614e-10, 1.55255743e-08, 9.98228912e-01,\n",
       "        9.62188650e-10, 1.52312384e-03, 5.78489419e-04, 2.38821587e-03,\n",
       "        9.97478887e-01, 5.90782924e-18, 5.14711289e-09, 9.99894073e-01,\n",
       "        6.35565190e-16, 1.67368698e-05, 1.55762012e-13, 4.46386711e-06,\n",
       "        1.44620272e-08, 1.66257534e-02, 2.36341632e-12, 1.30116770e-14,\n",
       "        3.69695055e-15, 6.13723723e-07, 1.58745479e-18, 1.78981067e-12,\n",
       "        2.59699160e-05, 2.06865333e-10, 3.83966640e-01, 8.05587670e-07,\n",
       "        2.59155970e-09, 3.66361464e-05, 5.58423745e-08, 5.35326445e-06,\n",
       "        9.99989891e-01, 9.92133119e-01, 6.21923368e-08, 3.54043811e-14,\n",
       "        8.02262714e-03, 1.18627407e-02, 8.28886320e-07, 1.54874507e-11,\n",
       "        9.99999826e-01, 2.09533059e-08, 7.99851892e-05, 1.12071806e-07,\n",
       "        3.13010151e-12, 1.53658311e-10, 6.94914894e-03, 1.30349238e-09,\n",
       "        3.93856274e-07, 6.86958640e-01, 7.89633147e-06, 9.99995608e-01,\n",
       "        4.34548851e-12, 2.86891357e-20, 3.83060177e-11, 4.03433592e-16,\n",
       "        5.73329198e-11, 2.52300506e-16, 1.56941495e-09, 1.40760169e-05,\n",
       "        2.63594564e-07, 1.03441092e-10, 5.52165859e-09, 2.91017782e-18,\n",
       "        4.20418360e-06, 9.71889476e-09, 3.95789437e-14, 4.42784273e-09,\n",
       "        3.40957891e-07, 9.99996128e-01, 5.14484658e-14, 1.00345978e-08,\n",
       "        3.27457316e-05, 9.11592311e-10, 4.41792321e-12, 1.32901657e-06,\n",
       "        1.48108941e-02, 2.60420683e-18, 2.44042403e-08, 9.87563018e-01,\n",
       "        1.92377355e-05, 1.35169911e-12, 5.03633700e-08, 3.06012118e-04]),\n",
       " array([6.79965800e-08, 1.55553943e-04, 1.77088051e-07, 9.68384971e-11,\n",
       "        8.01711583e-08, 1.47875515e-08, 3.62676717e-04, 1.05006894e-10,\n",
       "        3.15710652e-04, 2.13954511e-09, 2.68986442e-06, 5.64227660e-17,\n",
       "        1.56897017e-09, 3.32594718e-08, 7.85418630e-09, 3.55846888e-05,\n",
       "        2.76807649e-12, 2.43736296e-11, 7.16234632e-16, 1.86470054e-03,\n",
       "        6.12292012e-08, 4.06736573e-03, 8.40003340e-19, 9.99990074e-01,\n",
       "        2.88931944e-06, 1.58287910e-08, 8.43654061e-06, 8.91188149e-06,\n",
       "        3.44444020e-09, 1.05169772e-02, 2.46880268e-03, 1.39227986e-06,\n",
       "        4.46924624e-04, 3.49970499e-08, 9.21602504e-09, 2.43235116e-06,\n",
       "        5.52159439e-07, 2.27367251e-08, 2.00105114e-05, 7.24421891e-09,\n",
       "        1.92491081e-06, 3.51240621e-07, 5.19509918e-13, 7.95297774e-12,\n",
       "        7.40215523e-03, 9.99827011e-01, 4.15548006e-04, 1.30801272e-06,\n",
       "        3.09452497e-08, 3.62362967e-13, 1.89134361e-02, 2.78531439e-11,\n",
       "        9.95400275e-01, 1.76680559e-03, 9.35550307e-19, 3.08409333e-04,\n",
       "        2.01215175e-09, 2.09874734e-06, 5.29959262e-12, 8.64454988e-01,\n",
       "        1.16527265e-11, 1.37104278e-08, 2.19073164e-03, 1.01446393e-07,\n",
       "        2.43094172e-12, 9.03688816e-04, 2.36739732e-09, 1.89383584e-10,\n",
       "        4.42522802e-07, 3.28522466e-01, 8.85964818e-13, 6.57499695e-08,\n",
       "        1.97708202e-08, 3.33465900e-11, 7.11375846e-07, 5.64343721e-13,\n",
       "        6.67801692e-02, 2.87417751e-06, 2.11918637e-06, 7.98165955e-11,\n",
       "        1.01511833e-03, 2.47877017e-06, 2.67065978e-18, 1.80888738e-05,\n",
       "        5.02790325e-02, 5.94247772e-10, 5.97344024e-13, 2.80274365e-07,\n",
       "        7.88106167e-14, 4.82334334e-08, 9.36702169e-06, 1.53064477e-09,\n",
       "        5.14091533e-06, 3.71791281e-05, 1.08183815e-09, 3.36399046e-18,\n",
       "        1.79055697e-05, 5.44698327e-15, 8.48445198e-01, 1.85806879e-19]),\n",
       " array([1.43210357e-15, 5.11945278e-06, 1.14483689e-04, 2.13492529e-09,\n",
       "        2.22073712e-07, 1.36218930e-08, 1.02836610e-09, 1.76532350e-07,\n",
       "        2.75036208e-09, 1.07090838e-11, 4.01390140e-14, 7.04077722e-09,\n",
       "        4.90090505e-11, 1.40448331e-11, 5.66137676e-07, 3.09955159e-06,\n",
       "        1.66492154e-11, 6.93892557e-14, 3.67958435e-03, 7.09545324e-08,\n",
       "        4.17382886e-15, 7.69881358e-01, 2.54471665e-02, 2.48625464e-09,\n",
       "        3.49865979e-06, 5.42576946e-13, 4.35113610e-07, 2.64924591e-09,\n",
       "        4.88862789e-13, 2.35756324e-06, 3.77589407e-13, 2.95764720e-06,\n",
       "        1.40057269e-09, 5.37835719e-02, 1.12142877e-16, 1.36250121e-10,\n",
       "        1.29852285e-13, 6.43798621e-07, 5.11850501e-06, 3.90975557e-07,\n",
       "        8.87628583e-04, 8.08191080e-09, 4.12333548e-14, 2.94432639e-04,\n",
       "        7.10658538e-08, 1.94077850e-07, 4.95524268e-07, 5.19589979e-05,\n",
       "        1.89934425e-16, 6.09220742e-07, 9.71490297e-01, 7.91125303e-13,\n",
       "        1.50332309e-11, 7.51850843e-04, 7.89598308e-04, 1.10916057e-06,\n",
       "        1.32433137e-09, 2.36690080e-05, 8.15948154e-09, 2.90987734e-09,\n",
       "        5.77557268e-07, 2.73912482e-11, 2.50393879e-05, 1.89329089e-09,\n",
       "        8.75315433e-14, 6.07450066e-05, 1.99370424e-10, 8.30101342e-11,\n",
       "        2.21259375e-18, 2.92901182e-12, 2.80401406e-11, 7.51856978e-18,\n",
       "        2.60574692e-09, 1.98396580e-12, 8.59882375e-06, 4.55360370e-11,\n",
       "        2.39951162e-08, 4.75758697e-08, 2.09677247e-06, 5.31778811e-18,\n",
       "        1.42336095e-08, 6.94276461e-02, 3.22363005e-08, 1.09987550e-12,\n",
       "        3.36262498e-13, 1.57846655e-13, 1.46043845e-16, 3.10063325e-05,\n",
       "        9.98779771e-01, 9.46341733e-09, 1.15325572e-15, 9.99878094e-01,\n",
       "        8.67432591e-06, 3.87339245e-19, 4.01930566e-08, 4.85649805e-12,\n",
       "        4.44030460e-06, 3.91177709e-08, 9.31924413e-01, 1.57849561e-09]),\n",
       " array([9.99996034e-01, 2.30520314e-17, 1.80269366e-03, 3.52217644e-05,\n",
       "        1.11941998e-05, 2.37351217e-02, 1.38696965e-08, 1.79389501e-02,\n",
       "        1.76264518e-18, 3.98529036e-04, 1.58662626e-11, 4.49170171e-11,\n",
       "        5.06633090e-03, 2.50988948e-05, 2.34807205e-05, 5.86380960e-05,\n",
       "        8.93929119e-01, 9.99998936e-01, 1.51913501e-13, 3.40268801e-09,\n",
       "        4.89783246e-03, 4.64416650e-16, 1.70847919e-05, 2.43105646e-12,\n",
       "        1.11165848e-04, 1.02945086e-21, 9.99909769e-01, 4.75414971e-08,\n",
       "        1.60388964e-06, 1.65833143e-05, 4.06245699e-05, 9.45731404e-04,\n",
       "        9.69436291e-13, 1.98105259e-11, 9.96707526e-01, 8.15444320e-11,\n",
       "        9.95355009e-01, 7.83297053e-04, 7.73364290e-09, 3.10950890e-08,\n",
       "        1.69006113e-02, 9.99923751e-01, 1.45150070e-04, 2.74142748e-09,\n",
       "        7.31169403e-11, 2.41802898e-12, 1.02941485e-07, 3.67495198e-05,\n",
       "        2.76703855e-12, 7.20528898e-03, 4.91783511e-16, 2.70482591e-13,\n",
       "        1.44912912e-09, 1.00093838e-04, 1.31859966e-09, 9.64848904e-08,\n",
       "        8.59226515e-11, 1.92387103e-02, 4.66088680e-01, 5.16832470e-01,\n",
       "        9.99984507e-01, 1.89426494e-13, 1.50206377e-08, 3.11805753e-11,\n",
       "        3.87349753e-02, 6.42713538e-11, 4.42969576e-05, 2.43492278e-09,\n",
       "        5.69389467e-14, 1.31441440e-12, 9.99999720e-01, 2.12578242e-15,\n",
       "        1.85548020e-12, 9.96302821e-01, 2.52868461e-04, 9.99835962e-01,\n",
       "        6.31658863e-10, 6.66034930e-01, 1.91862063e-04, 9.99999993e-01,\n",
       "        7.67870123e-04, 1.12795098e-12, 1.82466592e-09, 9.98372398e-01,\n",
       "        2.02953948e-11, 1.26774764e-17, 9.99999883e-01, 1.34905930e-10,\n",
       "        3.96367256e-13, 1.66254955e-06, 2.95260835e-03, 6.88891697e-14,\n",
       "        1.55988014e-06, 5.13403726e-06, 1.78672850e-10, 8.21688531e-14,\n",
       "        1.40003210e-02, 2.00203487e-04, 1.11150422e-09, 7.29673761e-01]),\n",
       " array([1.39001517e-06, 1.12813336e-08, 5.12761934e-07, 1.45350742e-12,\n",
       "        5.82585812e-08, 1.17831200e-06, 8.37807744e-07, 2.00732604e-10,\n",
       "        1.23788235e-13, 6.24939941e-09, 1.36042104e-07, 2.15880652e-09,\n",
       "        4.19054058e-07, 1.01534344e-05, 9.81943984e-05, 5.16563607e-10,\n",
       "        9.35238581e-07, 9.46477260e-09, 1.56787558e-17, 3.86773655e-12,\n",
       "        4.16205406e-06, 5.00931602e-12, 3.96791465e-10, 2.79242526e-02,\n",
       "        5.48575733e-10, 8.52379752e-18, 3.72752456e-09, 3.48908534e-13,\n",
       "        9.02718682e-09, 8.53396303e-04, 4.18073408e-09, 9.81638968e-03,\n",
       "        2.31792588e-11, 8.95798234e-09, 1.38792101e-05, 2.02325840e-13,\n",
       "        5.85400159e-10, 3.77144840e-03, 6.67816528e-04, 1.46390629e-04,\n",
       "        8.12720757e-06, 2.08521678e-04, 2.12366635e-08, 2.42175813e-04,\n",
       "        6.92396574e-07, 2.54581380e-02, 8.78467331e-06, 2.14754533e-07,\n",
       "        8.16530082e-13, 1.85951086e-12, 1.57519902e-08, 5.34193426e-23,\n",
       "        3.26979153e-11, 3.78407747e-08, 6.73369760e-10, 9.14764779e-01,\n",
       "        6.74766491e-14, 7.92917424e-06, 1.68552373e-13, 8.54641248e-06,\n",
       "        1.75254176e-09, 7.33255327e-03, 6.49999146e-05, 9.11713323e-10,\n",
       "        2.33733770e-13, 3.81135992e-05, 5.30297458e-13, 2.36835821e-10,\n",
       "        1.56068237e-10, 5.39091197e-11, 4.48498748e-04, 9.22670115e-16,\n",
       "        5.54522139e-10, 7.07140317e-02, 5.93982323e-02, 2.53314104e-07,\n",
       "        7.83340491e-09, 3.04440898e-08, 2.38867924e-03, 2.58991199e-07,\n",
       "        8.05223642e-12, 4.71468123e-12, 4.35438072e-13, 3.75282904e-09,\n",
       "        3.88534995e-02, 3.14153222e-15, 1.13499271e-05, 7.81235980e-12,\n",
       "        4.03990415e-13, 1.62298143e-07, 3.40461325e-08, 4.66985983e-10,\n",
       "        1.09404440e-01, 2.65929588e-10, 9.87354094e-08, 2.76485035e-21,\n",
       "        1.75735712e-02, 6.79227281e-14, 3.42727295e-10, 8.93079660e-13]),\n",
       " array([2.16710727e-07, 5.67595123e-15, 7.44892854e-06, 2.58901026e-22,\n",
       "        5.22022210e-11, 2.09725280e-05, 4.56493924e-04, 1.27039591e-01,\n",
       "        1.12448877e-18, 1.01800021e-01, 3.86019266e-30, 7.99937276e-21,\n",
       "        9.99999788e-01, 3.87082945e-14, 6.08116691e-07, 7.81968018e-16,\n",
       "        8.59566409e-01, 2.18454421e-14, 4.17945151e-18, 2.41093557e-02,\n",
       "        9.99876644e-01, 8.80976784e-10, 1.05638514e-14, 4.22887746e-07,\n",
       "        3.31312225e-06, 2.94272856e-38, 1.19040145e-03, 5.46261792e-05,\n",
       "        7.64640711e-17, 2.79953831e-09, 3.40975693e-10, 1.05055507e-05,\n",
       "        3.10880913e-07, 3.05244799e-22, 1.97486122e-08, 2.57704696e-26,\n",
       "        1.81459961e-04, 3.43657707e-08, 7.51517207e-12, 9.74242315e-06,\n",
       "        8.94695152e-07, 1.05975206e-04, 1.26179490e-01, 8.89226348e-06,\n",
       "        3.82132457e-08, 9.72730172e-10, 1.50664927e-08, 1.74616268e-09,\n",
       "        1.34652843e-04, 1.04798265e-03, 5.45789611e-09, 3.99491751e-19,\n",
       "        5.29547290e-11, 1.09599506e-11, 1.54400194e-18, 7.50397310e-11,\n",
       "        2.09864948e-11, 4.63713832e-02, 9.74416291e-01, 5.66308107e-05,\n",
       "        3.42834220e-14, 1.46528547e-06, 8.28470694e-01, 9.86164795e-01,\n",
       "        3.06679782e-10, 9.74134816e-01, 7.62158422e-20, 2.92504363e-09,\n",
       "        5.31268449e-10, 4.16964938e-16, 9.15235011e-14, 1.29215193e-31,\n",
       "        1.19590639e-23, 7.97900298e-03, 4.53726820e-07, 2.41693621e-07,\n",
       "        1.25554270e-09, 6.51279230e-09, 9.99999929e-01, 1.38702511e-09,\n",
       "        1.05392460e-03, 4.63650699e-17, 7.63423517e-21, 1.05573829e-03,\n",
       "        3.69881097e-08, 7.70413973e-06, 1.58740275e-10, 2.48375811e-16,\n",
       "        3.04653283e-13, 1.83235862e-09, 2.22530478e-14, 1.83057663e-10,\n",
       "        9.99490735e-01, 7.38810055e-14, 2.20165951e-10, 6.29399676e-21,\n",
       "        3.19434427e-06, 4.54067218e-10, 2.41054893e-25, 8.76131859e-01])]"
      ]
     },
     "execution_count": 19,
     "metadata": {},
     "output_type": "execute_result"
    }
   ],
   "source": [
    "predictions"
   ]
  }
 ],
 "metadata": {
  "interpreter": {
   "hash": "dc94e72f1ef71576de81c8c30068743bd3c4ec87cd4f7a4a762ec22a88131279"
  },
  "kernelspec": {
   "display_name": "Python 3.9.9 64-bit ('3.9.9')",
   "language": "python",
   "name": "python3"
  },
  "language_info": {
   "codemirror_mode": {
    "name": "ipython",
    "version": 3
   },
   "file_extension": ".py",
   "mimetype": "text/x-python",
   "name": "python",
   "nbconvert_exporter": "python",
   "pygments_lexer": "ipython3",
   "version": "3.9.9"
  },
  "orig_nbformat": 4
 },
 "nbformat": 4,
 "nbformat_minor": 2
}
